{
 "cells": [
  {
   "cell_type": "code",
   "execution_count": 2,
   "outputs": [],
   "source": [
    "import CA_secrete_and_sense_cells as CA\n",
    "import numpy as np\n",
    "import matplotlib.pyplot as plt\n",
    "import matplotlib\n",
    "matplotlib.use('TkAgg')\n",
    "import time"
   ],
   "metadata": {
    "collapsed": false,
    "ExecuteTime": {
     "end_time": "2023-09-28T14:32:19.434197Z",
     "start_time": "2023-09-28T14:32:18.962438Z"
    }
   },
   "id": "e323290e34676483"
  },
  {
   "cell_type": "code",
   "execution_count": 9,
   "outputs": [],
   "source": [
    "# Define model\n",
    "trajectory = CA.two_signaling_molecules()\n",
    "trajectory.init_lattice(gridsize=14, periodic_bc=[1, 1], a0=1.5, rcell=0.2, type='triangular')\n",
    "trajectory.init_general_parameters(K_matrix=np.array([[3, 10], [11, 4]]), M_matrix=np.array([[1, 1], [-1, 0]]),\n",
    "                                   C_matrix=np.array([18, 16]), lamb=np.array([1, 1.2]))\n",
    "\n",
    "# Initialize system parameters\n",
    "trajectory.init_cell_state(p0=np.array([0.5, 0.5]), I_min=0.0, dI=0.05)\n",
    "\n",
    "# Run model\n",
    "trajectory.run_model(tmax=100)\n",
    "\n",
    "# Analyse trajectory\n",
    "trajectory.analyse_trajectory()\n",
    "\n"
   ],
   "metadata": {
    "collapsed": false,
    "ExecuteTime": {
     "end_time": "2023-09-28T14:33:54.182002Z",
     "start_time": "2023-09-28T14:33:54.055537Z"
    }
   },
   "id": "d1aa61e8295b09bc"
  },
  {
   "cell_type": "code",
   "execution_count": 11,
   "outputs": [],
   "source": [
    "trajectory.show_trajectory(0, 100, store_frames=False, spin_vect=True)"
   ],
   "metadata": {
    "collapsed": false,
    "ExecuteTime": {
     "end_time": "2023-09-28T14:36:02.795744Z",
     "start_time": "2023-09-28T14:35:52.672298Z"
    }
   },
   "id": "8aec6c1459a6e239"
  },
  {
   "cell_type": "code",
   "execution_count": null,
   "outputs": [],
   "source": [],
   "metadata": {
    "collapsed": false
   },
   "id": "d989bb51244458cb"
  }
 ],
 "metadata": {
  "kernelspec": {
   "display_name": "Python 3",
   "language": "python",
   "name": "python3"
  },
  "language_info": {
   "codemirror_mode": {
    "name": "ipython",
    "version": 2
   },
   "file_extension": ".py",
   "mimetype": "text/x-python",
   "name": "python",
   "nbconvert_exporter": "python",
   "pygments_lexer": "ipython2",
   "version": "2.7.6"
  }
 },
 "nbformat": 4,
 "nbformat_minor": 5
}
